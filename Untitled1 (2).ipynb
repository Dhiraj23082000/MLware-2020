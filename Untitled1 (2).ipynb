{
  "nbformat": 4,
  "nbformat_minor": 0,
  "metadata": {
    "colab": {
      "name": "Untitled1.ipynb",
      "provenance": [],
      "collapsed_sections": []
    },
    "kernelspec": {
      "name": "python3",
      "display_name": "Python 3"
    }
  },
  "cells": [
    {
      "cell_type": "code",
      "metadata": {
        "id": "1wSTrCJQtCe1",
        "colab_type": "code",
        "colab": {}
      },
      "source": [
        "import numpy as np \n",
        "import pandas as pd\n",
        "import matplotlib.pyplot as plt\n",
        "np.random.seed(1)\n",
        "from keras.models import Sequential,load_model,Model\n",
        "from keras.optimizers import RMSprop\n",
        "from keras.layers import Conv2D, MaxPooling2D,Activation, Dropout, Flatten, Dense\n",
        "from keras.preprocessing.image import ImageDataGenerator\n",
        "from keras.utils import np_utils\n",
        "import os\n",
        "import cv2\n",
        "import pickle"
      ],
      "execution_count": 0,
      "outputs": []
    },
    {
      "cell_type": "code",
      "metadata": {
        "id": "5tHqw8YCtEg_",
        "colab_type": "code",
        "colab": {}
      },
      "source": [
        "X,Y = np.load(\"/content/drive/My Drive/mlware/train256.npy\"),np.load(\"/content/drive/My Drive/mlware/train_labels.npy\")"
      ],
      "execution_count": 0,
      "outputs": []
    },
    {
      "cell_type": "code",
      "metadata": {
        "id": "yhgmbNMJtKrV",
        "colab_type": "code",
        "colab": {}
      },
      "source": [
        "pip install -U efficientnet"
      ],
      "execution_count": 0,
      "outputs": []
    },
    {
      "cell_type": "markdown",
      "metadata": {
        "id": "Ukm5ph61vb4S",
        "colab_type": "text"
      },
      "source": [
        "Ensembled all these models"
      ]
    },
    {
      "cell_type": "code",
      "metadata": {
        "id": "Sv4_yg1WtLMM",
        "colab_type": "code",
        "colab": {}
      },
      "source": [
        "from keras import optimizers\n",
        "from keras import applications\n",
        "import keras\n",
        "from keras.layers.normalization import BatchNormalization\n",
        "#import efficientnet.keras as efn\n",
        "\n",
        "#model = applications.VGG16(weights = \"imagenet\", include_top=False, input_shape = (128, 128, 3))\n",
        "#model2 = keras.applications.resnet.ResNet101(include_top=False, weights='imagenet', input_shape = (256, 256, 3))\n",
        "#model3 = efn.EfficientNetB3(weights='imagenet',input_shape=(256,256,3),include_top=False)\n",
        "#model6 = keras.applications.resnet.ResNet50(include_top=False, weights='imagenet', input_shape = (300, 300, 3))\n",
        "#model7 = keras.applications.resnet.ResNet152(include_top=False, weights='imagenet', input_shape = (256, 256, 3))\n",
        "#model4 = keras.applications.inception_resnet_v2.InceptionResNetV2(include_top=False, weights='imagenet', input_shape=(256,256,3))\n",
        "#model8 = keras.applications.densenet.DenseNet169(include_top=False, weights='imagenet', input_shape=(256,256,3))\n",
        "#model9 = keras.applications.densenet.DenseNet121(include_top=False, weights='imagenet', input_shape=(256,256,3))\n",
        "#model10 = keras.applications.densenet.DenseNet209(include_top=False, weights='imagenet', input_shape=(256,256,3))\n",
        "\n",
        "#model9  = keras.applications.xception.Xception(include_top=False, weights='imagenet',input_shape=(256,256,3))\n",
        "for layer in model5.layers[:5]:\n",
        "    layer.trainable = False\n",
        "#x = model5.layers[-1].output\n",
        "x = model5.output\n",
        "print(x.shape)\n",
        "x = Flatten()(x)\n",
        "x = Dense(1024, activation=\"relu\")(x)\n",
        "\n",
        "x = Dropout(0.5)(x)\n",
        "x = Dense(1024, activation=\"relu\")(x)\n",
        "predictions = Dense(7, activation=\"softmax\")(x)\n",
        "\n"
      ],
      "execution_count": 0,
      "outputs": []
    },
    {
      "cell_type": "code",
      "metadata": {
        "id": "Rt-3fO95tLOr",
        "colab_type": "code",
        "colab": {}
      },
      "source": [
        "from sklearn.model_selection import train_test_split\n",
        "\n",
        "X_train, X_test, Y_train, Y_test = train_test_split(X, Y, test_size=0.10, random_state=7)\n",
        "X_train = X_train / 255.\n",
        "X_test = X_test / 255.\n",
        "Y_train = np_utils.to_categorical(Y_train, 7)\n",
        "Y_test = np_utils.to_categorical(Y_test, 7)\n"
      ],
      "execution_count": 0,
      "outputs": []
    },
    {
      "cell_type": "code",
      "metadata": {
        "id": "Skau_FHQtLSm",
        "colab_type": "code",
        "colab": {}
      },
      "source": [
        "from keras import backend as K\n",
        "\n",
        "def recall_m(y_true, y_pred):\n",
        "        true_positives = K.sum(K.round(K.clip(y_true * y_pred, 0, 1)))\n",
        "        possible_positives = K.sum(K.round(K.clip(y_true, 0, 1)))\n",
        "        recall = true_positives / (possible_positives + K.epsilon())\n",
        "        return recall\n",
        "\n",
        "def precision_m(y_true, y_pred):\n",
        "        true_positives = K.sum(K.round(K.clip(y_true * y_pred, 0, 1)))\n",
        "        predicted_positives = K.sum(K.round(K.clip(y_pred, 0, 1)))\n",
        "        precision = true_positives / (predicted_positives + K.epsilon())\n",
        "        return precision\n",
        "\n",
        "def f1_m(y_true, y_pred):\n",
        "    precision = precision_m(y_true, y_pred)\n",
        "    recall = recall_m(y_true, y_pred)\n",
        "    return 2*((precision*recall)/(precision+recall+K.epsilon()))"
      ],
      "execution_count": 0,
      "outputs": []
    },
    {
      "cell_type": "code",
      "metadata": {
        "id": "CLglzCYqtV8O",
        "colab_type": "code",
        "colab": {}
      },
      "source": [
        "class CutMixGenerator:\n",
        "    def __init__(self, X_train, y_train, batch_size=18, alpha=0.3,\n",
        "                 shuffle=True, data_gen=None):\n",
        "        self.X_train = X_train\n",
        "        self.y_train = y_train\n",
        "        self.batch_size = batch_size\n",
        "        self.alpha = alpha\n",
        "        self.shuffle = shuffle\n",
        "        self.sample_num = len(X_train)\n",
        "        self.data_gen = data_gen\n",
        "\n",
        "    def __call__(self):\n",
        "        while True:\n",
        "            indexes = self.__get_exploration_order()\n",
        "            itr_num = int(len(indexes) // (self.batch_size * 2))\n",
        "\n",
        "            for i in range(itr_num):\n",
        "                batch_ids = indexes[i * self.batch_size * 2:(i + 1) * self.batch_size * 2]\n",
        "                X, y = self.__data_generation(batch_ids)\n",
        "\n",
        "                yield X, y\n",
        "\n",
        "    def __get_exploration_order(self):\n",
        "        indexes = np.arange(self.sample_num)\n",
        "\n",
        "        if self.shuffle:\n",
        "            np.random.shuffle(indexes)\n",
        "\n",
        "        return indexes\n",
        "\n",
        "    def __data_generation(self, batch_ids):\n",
        "        _, h, w, c = self.X_train.shape\n",
        "        _, class_num = self.y_train.shape\n",
        "        batch_index = batch_ids[:self.batch_size]\n",
        "        rand_index = np.random.permutation(batch_index)\n",
        "        X1 = self.X_train[batch_index]\n",
        "        X2 = self.X_train[rand_index]\n",
        "        y1 = self.y_train[batch_index]\n",
        "        y2 = self.y_train[rand_index]\n",
        "        lam = np.random.beta(self.alpha, self.alpha)\n",
        "\n",
        "        bx1, by1, bx2, by2 = get_rand_bbox(w, h, lam)\n",
        "        X1[:, bx1:bx2, by1:by2, :] = X2[:, bx1:bx2, by1:by2, :]\n",
        "        X = X1\n",
        "        y = y1 * lam + y2 * (1 - lam)\n",
        "\n",
        "        if self.data_gen:\n",
        "            for i in range(self.batch_size):\n",
        "                X[i] = self.data_gen.random_transform(X[i])\n",
        "\n",
        "        return X, y\n",
        "\n",
        "\n",
        "def is_channel_last(image):\n",
        "    channel = image.shape[2]\n",
        "    assert len(image.shape) == 3\n",
        "    assert channel == 3 or channel == 1\n",
        "    assert image_data_format() == \"channels_last\"\n",
        "\n",
        "\n",
        "def get_rand_bbox(width, height, l):\n",
        "    r_x = np.random.randint(width)\n",
        "    r_y = np.random.randint(height)\n",
        "    r_l = np.sqrt(1 - l)\n",
        "    r_w = np.int(width * r_l)\n",
        "    r_h = np.int(height * r_l)\n",
        "    bb_x_1 = np.clip(r_x - r_w // 2, 0, width)\n",
        "    bb_y_1 = np.clip(r_y - r_h // 2, 0, height)\n",
        "    bb_x_2 = np.clip(r_x + r_w // 2, 0, width)\n",
        "    bb_y_2 = np.clip(r_y + r_h // 2, 0, height)\n",
        "    return bb_x_1, bb_y_1, bb_x_2, bb_y_2"
      ],
      "execution_count": 0,
      "outputs": []
    },
    {
      "cell_type": "code",
      "metadata": {
        "id": "_CoSEPi7tWCk",
        "colab_type": "code",
        "colab": {}
      },
      "source": [
        "from keras.callbacks import  ModelCheckpoint\n",
        "\n",
        "best_model_file = \"/content/drive/My Drive/mlware/model4.h5\"\n",
        "best_model = ModelCheckpoint(best_model_file, monitor='f1_m',  save_best_only = True) \n",
        "model_final = Model(input = model5.input, output = predictions)\n",
        "model_final.compile(loss = \"categorical_crossentropy\", optimizer =optimizers.SGD(lr=0.0001, momentum=0.9) , metrics=[\"accuracy\",f1_m])"
      ],
      "execution_count": 0,
      "outputs": []
    },
    {
      "cell_type": "code",
      "metadata": {
        "id": "2a99g5G8tqfz",
        "colab_type": "code",
        "colab": {}
      },
      "source": [
        "from sklearn.utils import class_weight\n",
        "class_weights = class_weight.compute_class_weight('balanced',\n",
        "                                                 np.unique(Y_train),\n",
        "                                                 Y_train)"
      ],
      "execution_count": 0,
      "outputs": []
    },
    {
      "cell_type": "code",
      "metadata": {
        "id": "pBPuNxjLtWIv",
        "colab_type": "code",
        "colab": {}
      },
      "source": [
        "a = CutMixGenerator(X_train,Y_train)\n",
        "history = model_final.fit(a(), epochs=25,steps_per_epoch=len(X_train)//18, validation_data=(X_test, Y_test), verbose=1,class_weight=class_weights)\n"
      ],
      "execution_count": 0,
      "outputs": []
    },
    {
      "cell_type": "code",
      "metadata": {
        "id": "3y7sfuv1vijx",
        "colab_type": "code",
        "colab": {}
      },
      "source": [
        "plt.plot(history.history['loss'])\n",
        "plt.plot(history.history['val_loss'])\n",
        "plt.title('Model loss')\n",
        "plt.ylabel('Loss')\n",
        "plt.xlabel('Epoch')\n",
        "plt.legend(['Train', 'Test'], loc='upper left')\n",
        "plt.show()"
      ],
      "execution_count": 0,
      "outputs": []
    },
    {
      "cell_type": "code",
      "metadata": {
        "id": "GQCEG3NMtWBM",
        "colab_type": "code",
        "colab": {}
      },
      "source": [
        "test = np.load('/content/drive/My Drive/mlware/test256.npy')\n",
        "test = test/255."
      ],
      "execution_count": 0,
      "outputs": []
    },
    {
      "cell_type": "code",
      "metadata": {
        "id": "GAIHvCUUtV-v",
        "colab_type": "code",
        "colab": {}
      },
      "source": [
        "label = []\n",
        "for i in range(3675):\n",
        "    x_t = test[i] \n",
        "    x_t = np.expand_dims(x_t, axis=0)\n",
        "    y = model_final.predict(x_t)\n",
        "    y = (np.argmax(y[0]))\n",
        "    label.append(y)\n",
        "    print(y)\n"
      ],
      "execution_count": 0,
      "outputs": []
    },
    {
      "cell_type": "code",
      "metadata": {
        "id": "2vqGAywIvCE2",
        "colab_type": "code",
        "colab": {}
      },
      "source": [
        "\n",
        "with open('/content/drive/My Drive/mlware/dense121.npy', 'wb') as f:\n",
        "    np.save(f, label)\n",
        "   "
      ],
      "execution_count": 0,
      "outputs": []
    },
    {
      "cell_type": "markdown",
      "metadata": {
        "id": "m9OuTUYRvN8V",
        "colab_type": "text"
      },
      "source": [
        "Model Ensembling"
      ]
    },
    {
      "cell_type": "code",
      "metadata": {
        "id": "e3zyPR4-vCAK",
        "colab_type": "code",
        "colab": {}
      },
      "source": [
        " import numpy as np\n",
        "from scipy import stats\n",
        "xcept = np.load('xception.npy')\n",
        "rest152 = np.load('restnet152.npy')\n",
        "rest101 = np.load('restnet101.npy')\n",
        "rest50 = np.load('restnet50.npy')\n",
        "b4=np.load('b4.npy')\n",
        "b0 = np.load('b0.npy')\n",
        "b5 = np.load('b5.npy')\n",
        "b2 = np.load('b2.npy')\n",
        "b1 = np.load('b1.npy')\n",
        "b3 = np.load('b3.npy')\n",
        "r= np.load('rest50img300.npy')\n",
        "r2= np.load('rest2.101.npy')\n",
        "den201 = np.load('dense169.npy')\n",
        "pred=[]\n",
        "for i in range(3675):\n",
        "    a = np.array([xcept[i],rest152[i],rest101[i],b4[i],b5[i],b1[i],b3[i],r[i],r2[i],rest50[i],b0[i],den201[i]])\n",
        "    x = stats.mode(a)\n",
        "    pred.append(int(x[0]))"
      ],
      "execution_count": 0,
      "outputs": []
    },
    {
      "cell_type": "code",
      "metadata": {
        "id": "NgLyKsE4vUFB",
        "colab_type": "code",
        "colab": {}
      },
      "source": [
        "sample  = pd.read_csv('/content/drive/My Drive/mlware/sample_submission.csv')\n",
        "sample['label']=pred\n",
        "sample.to_csv('/content/drive/My Drive/mlware/answer14.csv',index=False)"
      ],
      "execution_count": 0,
      "outputs": []
    }
  ]
}